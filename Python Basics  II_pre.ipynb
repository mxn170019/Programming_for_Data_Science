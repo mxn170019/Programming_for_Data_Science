{
 "cells": [
  {
   "cell_type": "markdown",
   "metadata": {},
   "source": [
    "# BUAN 6340 Programming for Data Science"
   ]
  },
  {
   "cell_type": "markdown",
   "metadata": {},
   "source": [
    "## Python Basics II"
   ]
  },
  {
   "cell_type": "markdown",
   "metadata": {},
   "source": [
    "### Part I: Functions"
   ]
  },
  {
   "cell_type": "code",
   "execution_count": 1,
   "metadata": {},
   "outputs": [
    {
     "name": "stdout",
     "output_type": "stream",
     "text": [
      "Input a phrasehey\n",
      "HEY!\n"
     ]
    }
   ],
   "source": [
    "# define (def) a simple function called yell_it() and call the function\n",
    "\n",
    "def yell_it():\n",
    "    phrase=input(\"Input a phrase\")\n",
    "    print(phrase.upper()+\"!\")\n",
    "yell_it()"
   ]
  },
  {
   "cell_type": "code",
   "execution_count": 2,
   "metadata": {},
   "outputs": [],
   "source": [
    "# Task 1.1: define a function yell_this() that does the same, but take an argument (the input from users).\n",
    "\n",
    "\n"
   ]
  },
  {
   "cell_type": "code",
   "execution_count": 3,
   "metadata": {},
   "outputs": [],
   "source": [
    "# Task 1.2: Set default value for arguments\n",
    "\n",
    "\n"
   ]
  },
  {
   "cell_type": "code",
   "execution_count": 4,
   "metadata": {},
   "outputs": [],
   "source": [
    "# Task 1.3: Use keyword argument\n",
    "\n",
    "\n"
   ]
  },
  {
   "cell_type": "code",
   "execution_count": 5,
   "metadata": {},
   "outputs": [
    {
     "name": "stdout",
     "output_type": "stream",
     "text": [
      "Please input your full name: yz\n",
      "Doctor yz\n"
     ]
    }
   ],
   "source": [
    "# define a function with a return value \n",
    "# create and call make_doctor() with full_name argument from user input - then print the return value\n",
    "\n",
    "\n",
    "\n",
    "def make_doctor(name):\n",
    "    Doctor=\"Doctor\"+\" \"+name\n",
    "    return Doctor\n",
    "full_name=input(\"Please input your full name: \")\n",
    "new_name=make_doctor(full_name)\n",
    "print(new_name)\n",
    "\n",
    "# Now let's make a scheduler that takes the input from users and return \n",
    "\n",
    "\n",
    "# Task 2: complete the following functions. \n",
    "\n",
    "def get_name():   \n",
    "    # TODO: gets the first and last names of the user and return the full name\n",
    "    \n",
    "    return\n",
    "    \n",
    "\n",
    "def get_datetime():\n",
    "    #TODO: gets the date and time and return it as a string\n",
    "    return\n",
    "    \n",
    "    \n",
    "    \n",
    "# define a function that gets the title of the event and return it with title format\n",
    "def get_title():\n",
    "    event=input(\"Please specify the title of the event: \")\n",
    "    return event.title()\n",
    "\n",
    "\n",
    "# define a function that format the name, date and time and the title\n",
    "def format_item(owner,datetime,event):\n",
    "    return \"Event title: \"+event+\"\\nDate-time: \"+datetime+\"\\nHost: \"+owner\n",
    "\n",
    "\n",
    "# define a function that calls all four functions above and return the formatted schedule\n",
    "def scheduler():\n",
    "    owner=get_name()\n",
    "    datetime=get_datetime()\n",
    "    event=get_title()\n",
    "    item=format_item(owner,datetime,event)\n",
    "    return item"
   ]
  },
  {
   "cell_type": "code",
   "execution_count": 6,
   "metadata": {},
   "outputs": [],
   "source": [
    "#item=scheduler()\n",
    "#print(item)"
   ]
  },
  {
   "cell_type": "markdown",
   "metadata": {},
   "source": [
    "Global and local variables"
   ]
  },
  {
   "cell_type": "code",
   "execution_count": 7,
   "metadata": {},
   "outputs": [
    {
     "name": "stdout",
     "output_type": "stream",
     "text": [
      "99\n"
     ]
    }
   ],
   "source": [
    "def spam():\n",
    "    eggs = 99\n",
    "    bacon()\n",
    "    print(eggs)\n",
    "    \n",
    "def bacon():\n",
    "    ham = 101\n",
    "    eggs = 0\n",
    "    \n",
    "spam()"
   ]
  },
  {
   "cell_type": "code",
   "execution_count": 8,
   "metadata": {},
   "outputs": [
    {
     "name": "stdout",
     "output_type": "stream",
     "text": [
      "42\n",
      "42\n"
     ]
    }
   ],
   "source": [
    "def spam():\n",
    "    print(eggs)\n",
    "\n",
    "eggs = 42\n",
    "spam()\n",
    "print(eggs)"
   ]
  },
  {
   "cell_type": "code",
   "execution_count": 9,
   "metadata": {},
   "outputs": [
    {
     "name": "stdout",
     "output_type": "stream",
     "text": [
      "bacon local\n",
      "spam local\n",
      "bacon local\n",
      "global\n"
     ]
    }
   ],
   "source": [
    "def spam():\n",
    "    eggs = 'spam local'\n",
    "    print(eggs)\n",
    "\n",
    "def bacon():\n",
    "    eggs = 'bacon local'\n",
    "    print(eggs)\n",
    "    spam()\n",
    "    print(eggs)\n",
    "    \n",
    "eggs = 'global'\n",
    "bacon()\n",
    "print(eggs)"
   ]
  },
  {
   "cell_type": "markdown",
   "metadata": {},
   "source": [
    "### Part II: Control Flows"
   ]
  },
  {
   "cell_type": "markdown",
   "metadata": {},
   "source": [
    "1. If, elif and else"
   ]
  },
  {
   "cell_type": "code",
   "execution_count": 10,
   "metadata": {},
   "outputs": [
    {
     "name": "stdout",
     "output_type": "stream",
     "text": [
      "True means do something\n",
      "String 1 is lower case.\n"
     ]
    }
   ],
   "source": [
    "# for two cases\n",
    "if True:\n",
    "    print(\"True means do something\")\n",
    "else:\n",
    "    print(\"Not True means do something else\")\n",
    "    \n",
    "# if there are more than two conditions might happen, use elif\n",
    "\n",
    "# Test whether two strings are lowercased and print out the results, use function .islower()\n",
    "string_1=\"welcome\"\n",
    "string_2=\"I have $5.\"\n",
    "if string_1.islower() and string_2.islower():\n",
    "    print(\"Both are lower case.\")\n",
    "elif string_1.islower():\n",
    "    print(\"String 1 is lower case.\")\n",
    "elif string_2.islower():\n",
    "    print(\"String 2 is lower case.\")\n",
    "else:\n",
    "    print(\"They both are not.\")"
   ]
  },
  {
   "cell_type": "code",
   "execution_count": 11,
   "metadata": {},
   "outputs": [
    {
     "name": "stdout",
     "output_type": "stream",
     "text": [
      "Welcome to Little Sandwich. Please make your selection.\n",
      "'c'for cheese and 'v' for veggie\n",
      "c\n",
      "Please select your cheese:\n",
      "\n",
      "'s' for Swiss and 'a' for American\n",
      "v\n",
      "Sorry, we do not have this type of cheese. Goodbye.\n"
     ]
    }
   ],
   "source": [
    "# We also consider the case that the user input is invalid.\n",
    "print(\"Welcome to Little Sandwich. Please make your selection.\")\n",
    "sandwichtype=input(\"'c'for cheese and 'v' for veggie\\n\")\n",
    "\n",
    "if sandwichtype.lower()=='c':\n",
    "    print(\"Please select your cheese:\\n\")\n",
    "    cheesetype=input(\"'s' for Swiss and 'a' for American\\n\")\n",
    "    if cheesetype.lower()=='s':\n",
    "        print(\"Here is your Swiss cheese sandwich. Thank you.\")\n",
    "    elif cheesetype.lower()=='a':\n",
    "        print(\"Here is your American cheese sandwich. Thank you.\")\n",
    "    else:\n",
    "        print(\"Sorry, we do not have this type of cheese. Goodbye.\")\n",
    "elif sandwichtype.lower()=='v':\n",
    "    print(\"Here is your veggie sandwich. Thank you.\")\n",
    "else:\n",
    "    print(\"Sorry, we do not have this type of sandwich. Goodbye.\")"
   ]
  },
  {
   "cell_type": "markdown",
   "metadata": {},
   "source": [
    "2. While Loop"
   ]
  },
  {
   "cell_type": "code",
   "execution_count": 12,
   "metadata": {},
   "outputs": [
    {
     "name": "stdout",
     "output_type": "stream",
     "text": [
      "Enter your name - character only:\n",
      "yz\n",
      "nice name\n"
     ]
    }
   ],
   "source": [
    "#while True loops forever unless a break statement is used\n",
    "#use while TRUE to ensure that the user enters only characters for names.\n",
    "familiar_name=\"\"\n",
    "\n",
    "while True:\n",
    "    familiar_name=input(\"Enter your name - character only:\\n\")\n",
    "    if familiar_name.isalpha():\n",
    "        print(\"nice name\")\n",
    "        break\n",
    "    else:\n",
    "        print(\"sounds not right. try again\")"
   ]
  },
  {
   "cell_type": "code",
   "execution_count": 13,
   "metadata": {},
   "outputs": [],
   "source": [
    "#Let's revisit our sandwich problem. Instead of saying goodbye when the customer input is wrong, we keep asking\n",
    "#them to make a selection until they get it right.\n",
    "\n",
    "# Task 3: use while to complete the above requirement.\n",
    "\n",
    "\n"
   ]
  },
  {
   "cell_type": "markdown",
   "metadata": {},
   "source": [
    "3. For loop"
   ]
  },
  {
   "cell_type": "code",
   "execution_count": 14,
   "metadata": {},
   "outputs": [],
   "source": [
    "# Task 4: write a function to compare two lists. Return True if they have at least one item in common.\n",
    "\n",
    "\n"
   ]
  },
  {
   "cell_type": "code",
   "execution_count": 15,
   "metadata": {},
   "outputs": [],
   "source": [
    "# Task 4.1: if we want to pick out the common items\n",
    "\n",
    "\n",
    "\n"
   ]
  },
  {
   "cell_type": "code",
   "execution_count": 16,
   "metadata": {
    "scrolled": true
   },
   "outputs": [],
   "source": [
    "# Task 5: Take a string and calculate the number of letters and digits\n",
    "\n",
    "\n",
    "\n",
    "\n"
   ]
  }
 ],
 "metadata": {
  "kernelspec": {
   "display_name": "Python 3",
   "language": "python",
   "name": "python3"
  },
  "language_info": {
   "codemirror_mode": {
    "name": "ipython",
    "version": 3
   },
   "file_extension": ".py",
   "mimetype": "text/x-python",
   "name": "python",
   "nbconvert_exporter": "python",
   "pygments_lexer": "ipython3",
   "version": "3.6.7"
  }
 },
 "nbformat": 4,
 "nbformat_minor": 2
}
