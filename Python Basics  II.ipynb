{
 "cells": [
  {
   "cell_type": "markdown",
   "metadata": {},
   "source": [
    "# BUAN 6340 Programming for Data Science"
   ]
  },
  {
   "cell_type": "markdown",
   "metadata": {},
   "source": [
    "## Python Basics (Lecture 3)"
   ]
  },
  {
   "cell_type": "markdown",
   "metadata": {},
   "source": [
    "### Part I: Functions"
   ]
  },
  {
   "cell_type": "code",
   "execution_count": 5,
   "metadata": {},
   "outputs": [
    {
     "name": "stdout",
     "output_type": "stream",
     "text": [
      "[0, 1]\n"
     ]
    }
   ],
   "source": [
    "def reassign(list):\n",
    "  list = [0, 1]\n",
    "\n",
    "def append(list):\n",
    "  list.append(1)\n",
    "\n",
    "list = [0]\n",
    "#reassign(list)\n",
    "append(list)\n",
    "print(list)"
   ]
  },
  {
   "cell_type": "code",
   "execution_count": 1,
   "metadata": {},
   "outputs": [
    {
     "name": "stdout",
     "output_type": "stream",
     "text": [
      "Input a phraseHey\n",
      "HEY!\n"
     ]
    }
   ],
   "source": [
    "# define (def) a simple function called yell_it() and call the function\n",
    "\n",
    "def yell_it():\n",
    "    phrase=input(\"Input a phrase\")\n",
    "    print(phrase.upper()+\"!\")\n",
    "yell_it()"
   ]
  },
  {
   "cell_type": "code",
   "execution_count": 2,
   "metadata": {},
   "outputs": [
    {
     "name": "stdout",
     "output_type": "stream",
     "text": [
      "What do you want to yell?\n",
      "haha\n",
      "HAHA!\n"
     ]
    }
   ],
   "source": [
    "# define a function yell_this() that does the same, but take an argument (the input from users).\n",
    "def yell_this(word_to_yell):\n",
    "    print(word_to_yell.upper()+\"!\")\n",
    "\n",
    "words=input(\"What do you want to yell?\\n\")\n",
    "yell_this(words)"
   ]
  },
  {
   "cell_type": "code",
   "execution_count": 3,
   "metadata": {},
   "outputs": [
    {
     "name": "stdout",
     "output_type": "stream",
     "text": [
      "YES!\n"
     ]
    }
   ],
   "source": [
    "#Set default value for arguments\n",
    "def yell_this(word_to_yell = \"yes\"):\n",
    "    print(word_to_yell.upper()+\"!\")\n",
    "\n",
    "yell_this()"
   ]
  },
  {
   "cell_type": "code",
   "execution_count": 4,
   "metadata": {},
   "outputs": [
    {
     "name": "stdout",
     "output_type": "stream",
     "text": [
      "What do you want to yell?\n",
      "h\n",
      "H!\n"
     ]
    }
   ],
   "source": [
    "# Use keyword argument\n",
    "def yell_this(word_to_yell = \"yes\"):\n",
    "    print(word_to_yell.upper()+\"!\")\n",
    "\n",
    "mywords=input(\"What do you want to yell?\\n\")\n",
    "yell_this(word_to_yell = mywords)"
   ]
  },
  {
   "cell_type": "code",
   "execution_count": 5,
   "metadata": {},
   "outputs": [
    {
     "name": "stdout",
     "output_type": "stream",
     "text": [
      "Please input your full name: YZ\n",
      "Doctor YZ\n"
     ]
    }
   ],
   "source": [
    "#define a function with a return value \n",
    "#create and call make_doctor() with full_name argument from user input - then print the return value\n",
    "def make_doctor(name):\n",
    "    Doctor=\"Doctor\"+\" \"+name\n",
    "    return Doctor\n",
    "full_name=input(\"Please input your full name: \")\n",
    "new_name=make_doctor(full_name)\n",
    "print(new_name)# Now let's make a scheduler that takes the input from users and return \n",
    "# define a function that gets the first and last names of the user and return the full name\n",
    "def get_name():\n",
    "    first=input(\"Please enter your first name: \")\n",
    "    last=input(\"Please enter your last name: \")\n",
    "    return first.capitalize()+\" \"+last.capitalize()\n",
    "# define a function that gets the date and time and return it as a string\n",
    "def get_datetime():\n",
    "    date=input(\"Please enter the date for the event (e.g. 8/29/2018): \")\n",
    "    time=input(\"Please enter the time for the event (e.g. 9:00am): \")\n",
    "    return date+\" at \"+time\n",
    "# define a function that gets the title of the event and return it with title format\n",
    "def get_title():\n",
    "    event=input(\"Please specify the title of the event: \")\n",
    "    return event.title()\n",
    "# define a function that format the name, date and time and the title\n",
    "def format_item(owner,datetime,event):\n",
    "    return \"Event title: \"+event+\"\\nDate-time: \"+datetime+\"\\nHost: \"+owner\n",
    "# define a function that calls all four functions above and return the formatted schedule\n",
    "def scheduler():\n",
    "    owner=get_name()\n",
    "    datetime=get_datetime()\n",
    "    event=get_title()\n",
    "    item=format_item(owner,datetime,event)\n",
    "    return item"
   ]
  },
  {
   "cell_type": "code",
   "execution_count": 6,
   "metadata": {},
   "outputs": [
    {
     "name": "stdout",
     "output_type": "stream",
     "text": [
      "Please enter your first name: Yingjie\n",
      "Please enter your last name: Zhang\n",
      "Please enter the date for the event (e.g. 8/29/2018): 7/24/2019\n",
      "Please enter the time for the event (e.g. 9:00am): 5\n",
      "Please specify the title of the event: aa\n",
      "Event title: Aa\n",
      "Date-time: 7/24/2019 at 5\n",
      "Host: Yingjie Zhang\n"
     ]
    }
   ],
   "source": [
    "item=scheduler()\n",
    "print(item)"
   ]
  },
  {
   "cell_type": "markdown",
   "metadata": {},
   "source": [
    "Global and local variables"
   ]
  },
  {
   "cell_type": "code",
   "execution_count": 8,
   "metadata": {},
   "outputs": [
    {
     "name": "stdout",
     "output_type": "stream",
     "text": [
      "99\n"
     ]
    }
   ],
   "source": [
    "def spam():\n",
    "    eggs = 99\n",
    "    bacon()\n",
    "    print(eggs)\n",
    "    \n",
    "def bacon():\n",
    "    ham = 101\n",
    "    eggs = 0\n",
    "    \n",
    "spam()"
   ]
  },
  {
   "cell_type": "code",
   "execution_count": 11,
   "metadata": {},
   "outputs": [
    {
     "name": "stdout",
     "output_type": "stream",
     "text": [
      "42\n",
      "42\n"
     ]
    }
   ],
   "source": [
    "def spam():\n",
    "    print(eggs)\n",
    "\n",
    "eggs = 42\n",
    "spam()\n",
    "print(eggs)"
   ]
  },
  {
   "cell_type": "code",
   "execution_count": 12,
   "metadata": {},
   "outputs": [
    {
     "name": "stdout",
     "output_type": "stream",
     "text": [
      "bacon local\n",
      "spam local\n",
      "bacon local\n",
      "global\n"
     ]
    }
   ],
   "source": [
    "def spam():\n",
    "    eggs = 'spam local'\n",
    "    print(eggs)\n",
    "\n",
    "def bacon():\n",
    "    eggs = 'bacon local'\n",
    "    print(eggs)\n",
    "    spam()\n",
    "    print(eggs)\n",
    "    \n",
    "eggs = 'global'\n",
    "bacon()\n",
    "print(eggs)"
   ]
  },
  {
   "cell_type": "markdown",
   "metadata": {},
   "source": [
    "### Part II: Control Flows"
   ]
  },
  {
   "cell_type": "markdown",
   "metadata": {},
   "source": [
    "1. If, elif and else"
   ]
  },
  {
   "cell_type": "code",
   "execution_count": 13,
   "metadata": {},
   "outputs": [
    {
     "name": "stdout",
     "output_type": "stream",
     "text": [
      "True means do something\n",
      "String 1 is lower case.\n"
     ]
    }
   ],
   "source": [
    "# for two cases\n",
    "if True:\n",
    "    print(\"True means do something\")\n",
    "else:\n",
    "    print(\"Not True means do something else\")\n",
    "    \n",
    "# if there are more than two conditions might happen, use elif\n",
    "\n",
    "# Test whether two strings are lowercased and print out the results, use function .islower()\n",
    "string_1=\"welcome\"\n",
    "string_2=\"I have $5.\"\n",
    "if string_1.islower() and string_2.islower():\n",
    "    print(\"Both are lower case.\")\n",
    "elif string_1.islower():\n",
    "    print(\"String 1 is lower case.\")\n",
    "elif string_2.islower():\n",
    "    print(\"String 2 is lower case.\")\n",
    "else:\n",
    "    print(\"They both are not.\")"
   ]
  },
  {
   "cell_type": "code",
   "execution_count": 14,
   "metadata": {},
   "outputs": [
    {
     "name": "stdout",
     "output_type": "stream",
     "text": [
      "Welcome to Little Sandwich. Please make your selection.\n",
      "'c'for cheese and 'v' for veggie\n",
      "c\n",
      "Please select your cheese:\n",
      "\n",
      "'s' for Swiss and 'a' for American\n",
      "s\n",
      "Here is your Swiss cheese sandwich. Thank you.\n"
     ]
    }
   ],
   "source": [
    "# We also consider the case that the user input is invalid.\n",
    "print(\"Welcome to Little Sandwich. Please make your selection.\")\n",
    "sandwichtype=input(\"'c'for cheese and 'v' for veggie\\n\")\n",
    "\n",
    "if sandwichtype.lower()=='c':\n",
    "    print(\"Please select your cheese:\\n\")\n",
    "    cheesetype=input(\"'s' for Swiss and 'a' for American\\n\")\n",
    "    if cheesetype.lower()=='s':\n",
    "        print(\"Here is your Swiss cheese sandwich. Thank you.\")\n",
    "    elif cheesetype.lower()=='a':\n",
    "        print(\"Here is your American cheese sandwich. Thank you.\")\n",
    "    else:\n",
    "        print(\"Sorry, we do not have this type of cheese. Goodbye.\")\n",
    "elif sandwichtype.lower()=='v':\n",
    "    print(\"Here is your veggie sandwich. Thank you.\")\n",
    "else:\n",
    "    print(\"Sorry, we do not have this type of sandwich. Goodbye.\")"
   ]
  },
  {
   "cell_type": "markdown",
   "metadata": {},
   "source": [
    "2. While Loop"
   ]
  },
  {
   "cell_type": "code",
   "execution_count": 15,
   "metadata": {},
   "outputs": [
    {
     "name": "stdout",
     "output_type": "stream",
     "text": [
      "Enter your name - character only:\n",
      "YZ\n",
      "nice name\n"
     ]
    }
   ],
   "source": [
    "#while True loops forever unless a break statement is used\n",
    "#use while TRUE to ensure that the user enters only characters for names.\n",
    "familiar_name=\"\"\n",
    "\n",
    "while True:\n",
    "    familiar_name=input(\"Enter your name - character only:\\n\")\n",
    "    if familiar_name.isalpha():\n",
    "        print(\"nice name\")\n",
    "        break\n",
    "    else:\n",
    "        print(\"sounds not right. try again\")"
   ]
  },
  {
   "cell_type": "code",
   "execution_count": 16,
   "metadata": {},
   "outputs": [
    {
     "name": "stdout",
     "output_type": "stream",
     "text": [
      "'c'for cheese and 'v' for veggie\n",
      "c\n",
      "'s' for Swiss and 'a' for American\n",
      "s\n",
      "Here is your Swiss cheese sandwich. Thank you.\n"
     ]
    }
   ],
   "source": [
    "#Let's revisit our sandwich problem. Instead of saying goodbye when the customer input is wrong, we keep asking\n",
    "#them to make a selection until they get it right.\n",
    "while True:\n",
    "    sandwichtype=input(\"'c'for cheese and 'v' for veggie\\n\")\n",
    "    if sandwichtype.lower()=='c':\n",
    "        while True:\n",
    "            cheesetype=input(\"'s' for Swiss and 'a' for American\\n\")\n",
    "            if cheesetype.lower()=='s':\n",
    "                print(\"Here is your Swiss cheese sandwich. Thank you.\")\n",
    "                break\n",
    "            elif cheesetype.lower()=='a':\n",
    "                print(\"Here is your American cheese sandwich. Thank you.\")\n",
    "                break\n",
    "            else:\n",
    "                print(\"Sorry, we do not have this type of cheese. Try again.\")\n",
    "        break \n",
    "    elif sandwichtype.lower()=='v':\n",
    "        print(\"Here is your veggie sandwich. Thank you.\")\n",
    "        break\n",
    "    else:\n",
    "        print(\"Sorry, we do not have this type of sandwich. Try again.\")"
   ]
  },
  {
   "cell_type": "code",
   "execution_count": 17,
   "metadata": {},
   "outputs": [
    {
     "name": "stdout",
     "output_type": "stream",
     "text": [
      "Please enter a product name. Type in 'done' when you are done.done\n",
      "[]\n"
     ]
    }
   ],
   "source": [
    "#to allow entering product name until the user types in \"Done\"\n",
    "productList=[]\n",
    "itemNumber=0\n",
    "\n",
    "while True:\n",
    "    productName=input(\"Please enter a product name. Type in 'done' when you are done.\")\n",
    "    if productName.lower()=='done':\n",
    "        break\n",
    "    else: \n",
    "        itemNumber+=1\n",
    "        productList.append(str(itemNumber)+'. '+productName.capitalize())\n",
    "print(productList)"
   ]
  },
  {
   "cell_type": "code",
   "execution_count": 18,
   "metadata": {},
   "outputs": [
    {
     "name": "stdout",
     "output_type": "stream",
     "text": [
      "enter tickets remaining (0 to quit): 54\n",
      "you win!\n",
      "enter tickets remaining (0 to quit): 0\n",
      "Game ended\n"
     ]
    }
   ],
   "source": [
    "# if the user enters a number is multiple of 3, a winner; otherwise, no; Give a chance for the user to quit.\n",
    "tickets = int(input(\"enter tickets remaining (0 to quit): \"))\n",
    "\n",
    "while tickets > 0:\n",
    "        # if tickets are multiple of 3 then \"winner\"\n",
    "    if int(tickets/3) == tickets/3:\n",
    "        print(\"you win!\")\n",
    "    else:\n",
    "        print(\"sorry, not a winner.\")\n",
    "    tickets = int(input(\"enter tickets remaining (0 to quit): \"))\n",
    "\n",
    "print(\"Game ended\")"
   ]
  },
  {
   "cell_type": "markdown",
   "metadata": {},
   "source": [
    "3. For loop"
   ]
  },
  {
   "cell_type": "code",
   "execution_count": 19,
   "metadata": {},
   "outputs": [
    {
     "name": "stdout",
     "output_type": "stream",
     "text": [
      "you have entered 0 products\n",
      "your products are:\n"
     ]
    }
   ],
   "source": [
    "# to print out all items in the product list, one item at a time\n",
    "\n",
    "print('you have entered '+str(len(productList))+' products')\n",
    "print('your products are:')\n",
    "#productList.sort(reverse=True)\n",
    "for i in range(len(productList)):\n",
    "    print(' '+productList[i])\n"
   ]
  },
  {
   "cell_type": "code",
   "execution_count": 20,
   "metadata": {},
   "outputs": [
    {
     "name": "stdout",
     "output_type": "stream",
     "text": [
      "Please type in your user name: (attempt 1)\n",
      "123\n",
      "The username does not exist.\n",
      "Please type in your user name: (attempt 2)\n",
      "alice\n",
      "Please type in your password:\n",
      "\n",
      "lovemum\n",
      "Congratulations, you are logged in\n"
     ]
    }
   ],
   "source": [
    "# Allow a user to type in a combination of user name and password up to three attempts. Remind the user if\n",
    "# the combination is wrong.\n",
    "logindi={'john':'12345','alice':'lovemum','james':'pokemon'}\n",
    "\n",
    "for i in range(3):\n",
    "    print(\"Please type in your user name: (attempt \"+str(i+1)+')')\n",
    "    username=input()\n",
    "    if username in logindi:\n",
    "        print(\"Please type in your password:\\n\")\n",
    "        password=input()\n",
    "        if password==logindi[username]:\n",
    "            print(\"Congratulations, you are logged in\")\n",
    "            break\n",
    "        else:\n",
    "            print(\"Something is wrong with your password.\")\n",
    "            i+=1\n",
    "    else:\n",
    "        print(\"The username does not exist.\")\n",
    "        i+=1"
   ]
  },
  {
   "cell_type": "code",
   "execution_count": 23,
   "metadata": {},
   "outputs": [
    {
     "name": "stdout",
     "output_type": "stream",
     "text": [
      "True\n",
      "None\n"
     ]
    }
   ],
   "source": [
    "# write a function to compare two lists. Return True if they have at list one item in common.\n",
    "\n",
    "def common_elements(list1, list2):\n",
    "     result = False\n",
    "     for x in list1:\n",
    "         for y in list2:\n",
    "             if x == y:\n",
    "                 result = True\n",
    "                 return result\n",
    "print(common_elements([1,2,3,4,5], [5,6,7,8,9]))\n",
    "print(common_elements([1,2,3,4,5], [6,7,8,9]))"
   ]
  },
  {
   "cell_type": "code",
   "execution_count": 24,
   "metadata": {},
   "outputs": [],
   "source": [
    "# if we want to pick out the common items\n",
    "def common_elements(list1, list2):\n",
    "    result = []\n",
    "    for element in list1:\n",
    "        if element in list2:\n",
    "            result.append(element)\n",
    "    return result"
   ]
  },
  {
   "cell_type": "code",
   "execution_count": 25,
   "metadata": {
    "scrolled": true
   },
   "outputs": [
    {
     "name": "stdout",
     "output_type": "stream",
     "text": [
      "Input a stringasd\n",
      "Letters 3\n",
      "Digits 0\n"
     ]
    }
   ],
   "source": [
    "#Take a string and calculate the number of letters and digits\n",
    "s = input(\"Input a string\")\n",
    "d=l=0\n",
    "for c in s:\n",
    "    if c.isdigit():\n",
    "        d=d+1\n",
    "    elif c.isalpha():\n",
    "        l=l+1\n",
    "    else:\n",
    "        pass\n",
    "print(\"Letters\", l)\n",
    "print(\"Digits\", d)"
   ]
  }
 ],
 "metadata": {
  "kernelspec": {
   "display_name": "Python 3",
   "language": "python",
   "name": "python3"
  },
  "language_info": {
   "codemirror_mode": {
    "name": "ipython",
    "version": 3
   },
   "file_extension": ".py",
   "mimetype": "text/x-python",
   "name": "python",
   "nbconvert_exporter": "python",
   "pygments_lexer": "ipython3",
   "version": "3.7.2"
  }
 },
 "nbformat": 4,
 "nbformat_minor": 2
}
