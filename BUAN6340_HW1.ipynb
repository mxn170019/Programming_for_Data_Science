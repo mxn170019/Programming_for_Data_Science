{
 "cells": [
  {
   "cell_type": "markdown",
   "metadata": {},
   "source": [
    "# Assignment 1 \n",
    "## Programming for Data Science (BUAN 6340)\n",
    "\n",
    "### <font color='red'>Due Date: September 22, 2019 11:59pm</font> "
   ]
  },
  {
   "cell_type": "markdown",
   "metadata": {},
   "source": [
    "Deliverables:\n",
    "\n",
    "- Write down your codes in the given cells described in this file, denoted as \"YOUR CODE HERE\"\n",
    "- Use \"download as\" in the \"file\" menu to convert your ipython file to a .html file\n",
    "- Submit both .ipynb and .html files to the eLearning (you might need to compress them into one single file)\n",
    "\n",
    "\n",
    "This assignment covers Python Basics\n",
    "\n",
    "\n",
    "The total score: 100"
   ]
  },
  {
   "cell_type": "code",
   "execution_count": 1,
   "metadata": {},
   "outputs": [],
   "source": [
    "NAME = \"Mandeep Singh Narang\"\n",
    "Session = \"501\""
   ]
  },
  {
   "cell_type": "markdown",
   "metadata": {
    "heading_collapsed": true
   },
   "source": [
    "## Q1 (30 points)\n",
    "\n",
    "Write a Python program to convert temperatures to and from Celsius, Fahrenheit. \n",
    "\n",
    "In the program, you will allow users to enter a temperature followed with either 'C' or 'F' (e.g., 60C, 45F). (Hint: you need to detect whether a user enters Celsius or Fahrenheit and then do corresponding calcualations)\n",
    "\n",
    "Formula : c/5 = (f-32)/9, where c = temperature in Celsius and f = temperature in Fahrenheit \n",
    "\n",
    "Expected Output : \n",
    "- 60C is 140 in Fahrenheit\n",
    "- 45F is 7 in Celsius \n"
   ]
  },
  {
   "cell_type": "code",
   "execution_count": 3,
   "metadata": {
    "hidden": true
   },
   "outputs": [
    {
     "name": "stdout",
     "output_type": "stream",
     "text": [
      "please enter the temp in C or F: 60C\n",
      "please enter the temp in C or F: 45F\n"
     ]
    },
    {
     "data": {
      "text/plain": [
       "('60C in Fahrenheit is: 140F', '45F in Celsius is: 7C')"
      ]
     },
     "execution_count": 3,
     "metadata": {},
     "output_type": "execute_result"
    }
   ],
   "source": [
    "# Your codes here\n",
    "def convert_temp():\n",
    "    while True:\n",
    "        temp = input(\"please enter the temp in C or F: \")\n",
    "        x = temp[len(temp)-1]\n",
    "        if x.upper() == 'C':\n",
    "            y = ((int(temp[0:len(temp)-1])//5)*9)+32\n",
    "            return((temp+\" in Fahrenheit is: \" + str(y)+\"F\" ))\n",
    "            break\n",
    "        elif x.upper() == 'F':\n",
    "            y = ((int(temp[0:len(temp)-1]) - 32)*5)//9\n",
    "            return((temp+\" in Celsius is: \" + str(y)+\"C\" ))\n",
    "            break\n",
    "        else :\n",
    "            print(\"please enter the correct format\"+\"\\n\"+\"for example 45F or 60C\")\n",
    "            \n",
    "convert_temp(),convert_temp()"
   ]
  },
  {
   "cell_type": "markdown",
   "metadata": {
    "heading_collapsed": true
   },
   "source": [
    "## Q2 (30 points)\n",
    "\n",
    "Define a function that\n",
    "- gets a sequence of comma-separated numbers from the user as its argument\n",
    "- transforms it to a list\n",
    "- adds the maximum and minimum numbers of the list (Hint: you need to make sure the items are numeric)\n",
    "- returns the sum\n"
   ]
  },
  {
   "cell_type": "code",
   "execution_count": 7,
   "metadata": {
    "hidden": true
   },
   "outputs": [
    {
     "name": "stdout",
     "output_type": "stream",
     "text": [
      "please enter sequence of comma-separated: 2,3,a\n",
      "Please enter only numeric values!\n",
      "please enter sequence of comma-separated: 2,3,5\n",
      "7\n"
     ]
    }
   ],
   "source": [
    "# Your codes here\n",
    "while True:\n",
    "    seq = input(\"please enter sequence of comma-separated: \")\n",
    "    ls = seq.split(',')\n",
    "    ls_num=[]\n",
    "    ls_alpha = []\n",
    "    for i in ls:\n",
    "        if i.isnumeric() == False:\n",
    "            print(\"Please enter only numeric values!\")\n",
    "            ls_alpha.append(i)\n",
    "        else :\n",
    "            ls_num.append(int(i))\n",
    "    if len(ls_alpha) == 0:\n",
    "        print(max(ls1)+min(ls1))\n",
    "        break\n",
    "            "
   ]
  },
  {
   "cell_type": "markdown",
   "metadata": {
    "heading_collapsed": true
   },
   "source": [
    "## Q3 (25 points)\n",
    "\n",
    "Write a function and use regular expressions to make sure the password a user enters is a strong password.\n",
    "\n",
    "Notes:\n",
    "- Users should keep entering the password until it is strong\n",
    "- The password should contain: (1) at least 8 characters; (2) uppercase character(s); (3) lowercase character(s); and (4) at least one digit. \n",
    "- You may need to test the string against multiple regex patterns to validate its strength.\n"
   ]
  },
  {
   "cell_type": "code",
   "execution_count": 2,
   "metadata": {
    "hidden": true
   },
   "outputs": [
    {
     "name": "stdout",
     "output_type": "stream",
     "text": [
      "Please enter the password: 1www\n",
      "please make sure that the password should contain:\n",
      "(1) at least 8 characters;\n",
      "(2) uppercase character(s);\n",
      "(3) lowercase character(s); and (4) at least one digit.\n",
      "Please enter the password: Mandeep123\n",
      "Password format is correct\n"
     ]
    }
   ],
   "source": [
    "# Your codes here\n",
    "\n",
    "import re\n",
    "while True:\n",
    "    password_re_digit = re.compile(r'\\d')\n",
    "    password_re_lower = re.compile(r'[a-z]')\n",
    "    password_re_upper = re.compile(r'[A-Z]')\n",
    "    password = input(\"Please enter the password: \")\n",
    "    \n",
    "    if len(password) >= 8 and len(password_re_digit.findall(password)) >=1 and len( password_re_lower.findall(password))>=1 and     len(password_re_upper.findall(password))>=1 :\n",
    "        print(\"Password format is correct\")\n",
    "        break\n",
    "    print(\"please make sure that the password should contain:\\n(1) at least 8 characters;\\n(2) uppercase character(s);\\n(3) lowercase character(s); and (4) at least one digit.\")"
   ]
  },
  {
   "cell_type": "markdown",
   "metadata": {},
   "source": [
    "## Q4 (15 points)\n",
    "\n",
    "Write a program to generate the Fibonacci seqence given the total length of the list.\n",
    "\n",
    "Hint: The Fibonacci seqence is a sequence of numbers where the next number in the sequence is the sum of the previous two numbers in the sequence. The sequence looks like this: 1, 1, 2, 3, 5, 8, 13, …\n"
   ]
  },
  {
   "cell_type": "code",
   "execution_count": 26,
   "metadata": {},
   "outputs": [
    {
     "name": "stdout",
     "output_type": "stream",
     "text": [
      "input the lenth of Fibonacci seqence: y\n",
      "please enter a numeric value\n",
      "input the lenth of Fibonacci seqence: 7\n",
      "[1, 1, 2, 3, 5, 8, 13]\n"
     ]
    }
   ],
   "source": [
    "# Your codes here\n",
    "while True:\n",
    "    len = (input(\"input the lenth of Fibonacci seqence: \"))\n",
    "    if len.isnumeric():\n",
    "        ls = []\n",
    "        for i in range(int(len)):\n",
    "            ls.append(1)\n",
    "        for i in range(2,int(len)):\n",
    "            ls[i] = ls[i-1]+ls[i-2]\n",
    "        print(ls)\n",
    "        break\n",
    "    else:\n",
    "        print(\"please enter a numeric value\")\n"
   ]
  }
 ],
 "metadata": {
  "kernelspec": {
   "display_name": "Python 3",
   "language": "python",
   "name": "python3"
  },
  "language_info": {
   "codemirror_mode": {
    "name": "ipython",
    "version": 3
   },
   "file_extension": ".py",
   "mimetype": "text/x-python",
   "name": "python",
   "nbconvert_exporter": "python",
   "pygments_lexer": "ipython3",
   "version": "3.7.2"
  }
 },
 "nbformat": 4,
 "nbformat_minor": 2
}
