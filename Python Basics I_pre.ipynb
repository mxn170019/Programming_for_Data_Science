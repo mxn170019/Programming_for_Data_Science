{
  "nbformat": 4,
  "nbformat_minor": 0,
  "metadata": {
    "kernelspec": {
      "display_name": "Python 3",
      "language": "python",
      "name": "python3"
    },
    "language_info": {
      "codemirror_mode": {
        "name": "ipython",
        "version": 3
      },
      "file_extension": ".py",
      "mimetype": "text/x-python",
      "name": "python",
      "nbconvert_exporter": "python",
      "pygments_lexer": "ipython3",
      "version": "3.7.3"
    },
    "colab": {
      "name": "Python Basics I_pre.ipynb",
      "version": "0.3.2",
      "provenance": [],
      "include_colab_link": true
    }
  },
  "cells": [
    {
      "cell_type": "markdown",
      "metadata": {
        "id": "view-in-github",
        "colab_type": "text"
      },
      "source": [
        "<a href=\"https://colab.research.google.com/github/mxn170019/Programming_for_Data_Science/blob/master/Python%20Basics%20I_pre.ipynb\" target=\"_parent\"><img src=\"https://colab.research.google.com/assets/colab-badge.svg\" alt=\"Open In Colab\"/></a>"
      ]
    },
    {
      "cell_type": "markdown",
      "metadata": {
        "id": "EqbmhdWCLARg",
        "colab_type": "text"
      },
      "source": [
        "# BUAN 6340 Programming for Data Science"
      ]
    },
    {
      "cell_type": "markdown",
      "metadata": {
        "id": "x13VslBiLARj",
        "colab_type": "text"
      },
      "source": [
        "## Python Basics (Lecture 2)\n"
      ]
    },
    {
      "cell_type": "markdown",
      "metadata": {
        "id": "ZKvzwXksLARk",
        "colab_type": "text"
      },
      "source": [
        "### Part I: Your first python codes"
      ]
    },
    {
      "cell_type": "markdown",
      "metadata": {
        "id": "6Xb4sFRsLARl",
        "colab_type": "text"
      },
      "source": [
        "Expression"
      ]
    },
    {
      "cell_type": "code",
      "metadata": {
        "id": "j6d7ruVQLARl",
        "colab_type": "code",
        "colab": {
          "base_uri": "https://localhost:8080/",
          "height": 34
        },
        "outputId": "7307175e-f16c-43f1-bc60-8da89ee49058"
      },
      "source": [
        "# Task 1: Try out some arithmetic functions here: **, %, //, /, *\n",
        "\n",
        "2**3"
      ],
      "execution_count": 1,
      "outputs": [
        {
          "output_type": "execute_result",
          "data": {
            "text/plain": [
              "8"
            ]
          },
          "metadata": {
            "tags": []
          },
          "execution_count": 1
        }
      ]
    },
    {
      "cell_type": "code",
      "metadata": {
        "id": "01Tl7m-hLARq",
        "colab_type": "code",
        "colab": {
          "base_uri": "https://localhost:8080/",
          "height": 34
        },
        "outputId": "57618ea7-b5d1-4ed2-dcaa-35cb181bff17"
      },
      "source": [
        "# Storing values in variables\n",
        "spam = 40\n",
        "spam"
      ],
      "execution_count": 3,
      "outputs": [
        {
          "output_type": "execute_result",
          "data": {
            "text/plain": [
              "40"
            ]
          },
          "metadata": {
            "tags": []
          },
          "execution_count": 3
        }
      ]
    },
    {
      "cell_type": "code",
      "metadata": {
        "id": "2t7wwYWFLARu",
        "colab_type": "code",
        "colab": {
          "base_uri": "https://localhost:8080/",
          "height": 34
        },
        "outputId": "bba8ebcc-5aa1-4316-db5b-92818464122d"
      },
      "source": [
        "eggs = 2\n",
        "spam + eggs"
      ],
      "execution_count": 4,
      "outputs": [
        {
          "output_type": "execute_result",
          "data": {
            "text/plain": [
              "42"
            ]
          },
          "metadata": {
            "tags": []
          },
          "execution_count": 4
        }
      ]
    },
    {
      "cell_type": "markdown",
      "metadata": {
        "id": "-6Sz3kDALARx",
        "colab_type": "text"
      },
      "source": [
        "Print function"
      ]
    },
    {
      "cell_type": "code",
      "metadata": {
        "id": "GFSvHIAwLARy",
        "colab_type": "code",
        "colab": {
          "base_uri": "https://localhost:8080/",
          "height": 68
        },
        "outputId": "d3919c75-cf35-421b-fc58-391fabbb8679"
      },
      "source": [
        "# Print function\n",
        "print('Hello World')\n",
        "print(555, 867, 5309) \n",
        "print(555, 867, 5309, sep=\"-\")"
      ],
      "execution_count": 5,
      "outputs": [
        {
          "output_type": "stream",
          "text": [
            "Hello World\n",
            "555 867 5309\n",
            "555-867-5309\n"
          ],
          "name": "stdout"
        }
      ]
    },
    {
      "cell_type": "code",
      "metadata": {
        "id": "ku-omrobLAR1",
        "colab_type": "code",
        "colab": {
          "base_uri": "https://localhost:8080/",
          "height": 34
        },
        "outputId": "c762c0b2-80b6-4b55-ee5c-8b4a8af8f881"
      },
      "source": [
        "# Task 2: apply input() function to get the name and use print function to print it.\n",
        "print(\"What is your name?\")\n",
        "\n"
      ],
      "execution_count": 6,
      "outputs": [
        {
          "output_type": "stream",
          "text": [
            "What is your name?\n"
          ],
          "name": "stdout"
        }
      ]
    },
    {
      "cell_type": "code",
      "metadata": {
        "id": "8VGuNBGyLAR4",
        "colab_type": "code",
        "colab": {
          "base_uri": "https://localhost:8080/",
          "height": 221
        },
        "outputId": "3e2ce5cb-9607-4aa4-d726-57605c57dac9"
      },
      "source": [
        "help(print)"
      ],
      "execution_count": 7,
      "outputs": [
        {
          "output_type": "stream",
          "text": [
            "Help on built-in function print in module builtins:\n",
            "\n",
            "print(...)\n",
            "    print(value, ..., sep=' ', end='\\n', file=sys.stdout, flush=False)\n",
            "    \n",
            "    Prints the values to a stream, or to sys.stdout by default.\n",
            "    Optional keyword arguments:\n",
            "    file:  a file-like object (stream); defaults to the current sys.stdout.\n",
            "    sep:   string inserted between values, default a space.\n",
            "    end:   string appended after the last value, default a newline.\n",
            "    flush: whether to forcibly flush the stream.\n",
            "\n"
          ],
          "name": "stdout"
        }
      ]
    },
    {
      "cell_type": "markdown",
      "metadata": {
        "id": "LPN0NClNLAR7",
        "colab_type": "text"
      },
      "source": [
        "The str(), int(), and float() functions"
      ]
    },
    {
      "cell_type": "code",
      "metadata": {
        "id": "OBE_18gJLAR9",
        "colab_type": "code",
        "colab": {
          "base_uri": "https://localhost:8080/",
          "height": 34
        },
        "outputId": "7f5b77d8-6f1e-4a52-af7b-b5611948ec3d"
      },
      "source": [
        "# Task 3: convert integer to string, float to int, int to float.\n",
        "int('12')\n",
        "str(13)\n",
        "\n",
        "age = 12\n",
        "s = \"He is \" + str(age) + ' years old'\n",
        "print(s)\n"
      ],
      "execution_count": 8,
      "outputs": [
        {
          "output_type": "stream",
          "text": [
            "He is 12 years old\n"
          ],
          "name": "stdout"
        }
      ]
    },
    {
      "cell_type": "markdown",
      "metadata": {
        "id": "wXoLOrd7LASB",
        "colab_type": "text"
      },
      "source": [
        "### Part II: Data Types"
      ]
    },
    {
      "cell_type": "code",
      "metadata": {
        "id": "JXSIXZcxLASC",
        "colab_type": "code",
        "colab": {
          "base_uri": "https://localhost:8080/",
          "height": 51
        },
        "outputId": "2f97247d-0139-44e7-ce10-56179b8a74e7"
      },
      "source": [
        "# Task 4: data types using type() function\n",
        "a = 12\n",
        "b = str(a)\n",
        "\n",
        "print(type(a))\n",
        "print(type(b))\n",
        "\n"
      ],
      "execution_count": 11,
      "outputs": [
        {
          "output_type": "stream",
          "text": [
            "<class 'int'>\n",
            "<class 'str'>\n"
          ],
          "name": "stdout"
        }
      ]
    },
    {
      "cell_type": "markdown",
      "metadata": {
        "id": "z5dgHkDjLASF",
        "colab_type": "text"
      },
      "source": [
        "1. Boolean"
      ]
    },
    {
      "cell_type": "code",
      "metadata": {
        "id": "km8igHWELASH",
        "colab_type": "code",
        "colab": {
          "base_uri": "https://localhost:8080/",
          "height": 34
        },
        "outputId": "5eb9c384-a42d-49dc-c177-aa2c781c1ef1"
      },
      "source": [
        "1 == 2"
      ],
      "execution_count": 12,
      "outputs": [
        {
          "output_type": "execute_result",
          "data": {
            "text/plain": [
              "False"
            ]
          },
          "metadata": {
            "tags": []
          },
          "execution_count": 12
        }
      ]
    },
    {
      "cell_type": "code",
      "metadata": {
        "id": "lWn6Dm6VLASN",
        "colab_type": "code",
        "colab": {
          "base_uri": "https://localhost:8080/",
          "height": 34
        },
        "outputId": "156e84f9-5975-46a1-c91d-fd44da4a7eac"
      },
      "source": [
        "1<2<3"
      ],
      "execution_count": 13,
      "outputs": [
        {
          "output_type": "execute_result",
          "data": {
            "text/plain": [
              "True"
            ]
          },
          "metadata": {
            "tags": []
          },
          "execution_count": 13
        }
      ]
    },
    {
      "cell_type": "code",
      "metadata": {
        "id": "SeCN9byxLASV",
        "colab_type": "code",
        "colab": {
          "base_uri": "https://localhost:8080/",
          "height": 34
        },
        "outputId": "7c48b073-668d-4e32-d87d-de347e91e819"
      },
      "source": [
        "(1==2) == False"
      ],
      "execution_count": 14,
      "outputs": [
        {
          "output_type": "execute_result",
          "data": {
            "text/plain": [
              "True"
            ]
          },
          "metadata": {
            "tags": []
          },
          "execution_count": 14
        }
      ]
    },
    {
      "cell_type": "markdown",
      "metadata": {
        "id": "MKTwCAP9LASX",
        "colab_type": "text"
      },
      "source": [
        "2. String: A sequence of characters"
      ]
    },
    {
      "cell_type": "code",
      "metadata": {
        "id": "vacoeT0rLASY",
        "colab_type": "code",
        "colab": {
          "base_uri": "https://localhost:8080/",
          "height": 34
        },
        "outputId": "a46e52e1-f1f4-48fb-e263-837221238ff0"
      },
      "source": [
        "# Task 5: print a string that have a single quote character in it. \n",
        "# Try to define the string using both single quote and double quote\n",
        "\n",
        "# String: That is Alice's cat.\n",
        "\n",
        "\n",
        "string = \"That is Alice's cat\"\n",
        "string.split()"
      ],
      "execution_count": 26,
      "outputs": [
        {
          "output_type": "execute_result",
          "data": {
            "text/plain": [
              "['That', 'is', \"Alice's\", 'cat']"
            ]
          },
          "metadata": {
            "tags": []
          },
          "execution_count": 26
        }
      ]
    },
    {
      "cell_type": "code",
      "metadata": {
        "id": "uZ3oRAKJLASb",
        "colab_type": "code",
        "colab": {
          "base_uri": "https://localhost:8080/",
          "height": 102
        },
        "outputId": "1590b025-a122-4f8e-881d-fb4868a65821"
      },
      "source": [
        "# Indexing and slicing\n",
        "spam = 'Hello world!'\n",
        "print(spam[0])\n",
        "print(spam[4])\n",
        "print(spam[-1])\n",
        "print(spam[0:5])\n",
        "print(spam[:5])"
      ],
      "execution_count": 15,
      "outputs": [
        {
          "output_type": "stream",
          "text": [
            "H\n",
            "o\n",
            "!\n",
            "Hello\n",
            "Hello\n"
          ],
          "name": "stdout"
        }
      ]
    },
    {
      "cell_type": "code",
      "metadata": {
        "id": "60Zh5uE5LASe",
        "colab_type": "code",
        "colab": {
          "base_uri": "https://localhost:8080/",
          "height": 34
        },
        "outputId": "e690ec0d-45d2-4839-e735-d210185e87b0"
      },
      "source": [
        "'Hello' in \"Hello World\""
      ],
      "execution_count": 16,
      "outputs": [
        {
          "output_type": "execute_result",
          "data": {
            "text/plain": [
              "True"
            ]
          },
          "metadata": {
            "tags": []
          },
          "execution_count": 16
        }
      ]
    },
    {
      "cell_type": "code",
      "metadata": {
        "id": "I16fHFnlLASj",
        "colab_type": "code",
        "colab": {
          "base_uri": "https://localhost:8080/",
          "height": 68
        },
        "outputId": "2a578a4a-4f08-4f8a-f642-b363f0e39bc5"
      },
      "source": [
        "# Some string methods\n",
        "print(\"Hello world\".upper())\n",
        "print(\"Hello world\".lower())\n",
        "print(\"Hello world\".islower())"
      ],
      "execution_count": 17,
      "outputs": [
        {
          "output_type": "stream",
          "text": [
            "HELLO WORLD\n",
            "hello world\n",
            "False\n"
          ],
          "name": "stdout"
        }
      ]
    },
    {
      "cell_type": "code",
      "metadata": {
        "id": "wmPBNNEDLASl",
        "colab_type": "code",
        "colab": {
          "base_uri": "https://localhost:8080/",
          "height": 34
        },
        "outputId": "9861c05e-d1a3-4021-f7f8-b1bc10f9a387"
      },
      "source": [
        "'My name is Simon'.split()"
      ],
      "execution_count": 18,
      "outputs": [
        {
          "output_type": "execute_result",
          "data": {
            "text/plain": [
              "['My', 'name', 'is', 'Simon']"
            ]
          },
          "metadata": {
            "tags": []
          },
          "execution_count": 18
        }
      ]
    },
    {
      "cell_type": "code",
      "metadata": {
        "id": "heNjgl-mLASn",
        "colab_type": "code",
        "colab": {
          "base_uri": "https://localhost:8080/",
          "height": 34
        },
        "outputId": "4b65045c-1ec0-4aa7-bd42-e5f722137bfb"
      },
      "source": [
        "\"apple.tree\".find('tr')"
      ],
      "execution_count": 19,
      "outputs": [
        {
          "output_type": "execute_result",
          "data": {
            "text/plain": [
              "6"
            ]
          },
          "metadata": {
            "tags": []
          },
          "execution_count": 19
        }
      ]
    },
    {
      "cell_type": "code",
      "metadata": {
        "id": "kn_uUITJLASr",
        "colab_type": "code",
        "colab": {
          "base_uri": "https://localhost:8080/",
          "height": 34
        },
        "outputId": "c58e49e6-84df-4804-ea9e-4e61f45c459a"
      },
      "source": [
        "\"Hello\".rjust(20,'*')"
      ],
      "execution_count": 20,
      "outputs": [
        {
          "output_type": "execute_result",
          "data": {
            "text/plain": [
              "'***************Hello'"
            ]
          },
          "metadata": {
            "tags": []
          },
          "execution_count": 20
        }
      ]
    },
    {
      "cell_type": "code",
      "metadata": {
        "id": "rivI8Ji9LASw",
        "colab_type": "code",
        "colab": {
          "base_uri": "https://localhost:8080/",
          "height": 34
        },
        "outputId": "36e377d1-165a-4ba2-f06b-3b3f5935c8af"
      },
      "source": [
        "\"Hello\".center(20,'*')"
      ],
      "execution_count": 21,
      "outputs": [
        {
          "output_type": "execute_result",
          "data": {
            "text/plain": [
              "'*******Hello********'"
            ]
          },
          "metadata": {
            "tags": []
          },
          "execution_count": 21
        }
      ]
    },
    {
      "cell_type": "markdown",
      "metadata": {
        "id": "yyE0wWiCLAS1",
        "colab_type": "text"
      },
      "source": [
        "### Part III: Data Structure"
      ]
    },
    {
      "cell_type": "markdown",
      "metadata": {
        "id": "swrUi7C5LAS1",
        "colab_type": "text"
      },
      "source": [
        "1. List: a container which holds comma separated values (items or elements) between square brackets where items or elements need not all have the same type."
      ]
    },
    {
      "cell_type": "code",
      "metadata": {
        "id": "YrwgfcMfLAS2",
        "colab_type": "code",
        "colab": {
          "base_uri": "https://localhost:8080/",
          "height": 34
        },
        "outputId": "a34614e7-56a6-400b-de0a-f361d8545e9b"
      },
      "source": [
        "# Read in a string that is separated with comma and turn it into a list\n",
        "mystr=\"apple,pear,mango,orange\"\n",
        "newlist=mystr.split(\",\")\n",
        "print(newlist)"
      ],
      "execution_count": 22,
      "outputs": [
        {
          "output_type": "stream",
          "text": [
            "['apple', 'pear', 'mango', 'orange']\n"
          ],
          "name": "stdout"
        }
      ]
    },
    {
      "cell_type": "code",
      "metadata": {
        "id": "_m7KsZsmLAS5",
        "colab_type": "code",
        "colab": {
          "base_uri": "https://localhost:8080/",
          "height": 34
        },
        "outputId": "14e9fe0d-705b-4c0d-92dc-87f3a0ff523b"
      },
      "source": [
        "# Make changes to a list - append\n",
        "# append adds its argument as a single element to the end of a list. The length of the list itself will increase by one. \n",
        "\n",
        "# Make changes to a list - extend\n",
        "# extend iterates over its argument adding each element to the list, extending the list. \n",
        "# The length of the list will increase by however many elements were in the iterable argument.\n",
        "\n",
        "#Make changes to a list - insert\n",
        "\n",
        "# Task 6: insert two elements, 'banana' and 'grape', to newlist\n",
        "\n",
        "\n",
        "\n",
        "\n",
        "def reverse_input(input):\n",
        "  x = input\n",
        "  mid = []\n",
        "  for i in x:\n",
        "    mid.append(i)\n",
        "  mid.reverse()\n",
        "  mid\n",
        "  y = \"\"\n",
        "  for i in mid:\n",
        "    y = y+i\n",
        "  return(y)\n",
        "\n",
        "reverse_input(\"Hello_world\")"
      ],
      "execution_count": 45,
      "outputs": [
        {
          "output_type": "execute_result",
          "data": {
            "text/plain": [
              "'dlrow_olleH'"
            ]
          },
          "metadata": {
            "tags": []
          },
          "execution_count": 45
        }
      ]
    },
    {
      "cell_type": "code",
      "metadata": {
        "id": "mtRZZW5SR3eV",
        "colab_type": "code",
        "colab": {
          "base_uri": "https://localhost:8080/",
          "height": 34
        },
        "outputId": "967cbc58-7908-4127-886f-24bc5362d92e"
      },
      "source": [
        "x = \"input\"\n",
        "\n",
        "\n",
        "  \n",
        "def reverse(s): \n",
        "  str = \"\" \n",
        "  for i in s: \n",
        "    str = i + str\n",
        "  return str\n",
        "\n",
        "reverse(x)"
      ],
      "execution_count": 61,
      "outputs": [
        {
          "output_type": "execute_result",
          "data": {
            "text/plain": [
              "'tupni'"
            ]
          },
          "metadata": {
            "tags": []
          },
          "execution_count": 61
        }
      ]
    },
    {
      "cell_type": "code",
      "metadata": {
        "id": "2R-0Pq0ULAS7",
        "colab_type": "code",
        "colab": {}
      },
      "source": [
        "# Tast 7: insert a nested list, ['strawberry','melon'], as a new element of newlist \n",
        "\n",
        "\n"
      ],
      "execution_count": 0,
      "outputs": []
    },
    {
      "cell_type": "code",
      "metadata": {
        "id": "Q_XRi3F7LATA",
        "colab_type": "code",
        "colab": {}
      },
      "source": [
        "# Task 8: insert a new element, 'starfruit', as the second element of newlist\n",
        "\n",
        "\n"
      ],
      "execution_count": 0,
      "outputs": []
    },
    {
      "cell_type": "code",
      "metadata": {
        "id": "igEih7J-LATC",
        "colab_type": "code",
        "colab": {}
      },
      "source": [
        "#Make changes to a list - concatenate\n",
        "mynewlst = [\"coffee\", \"tea\"]\n",
        "\n",
        "# Task 9: combine newlist and mynewlst\n"
      ],
      "execution_count": 0,
      "outputs": []
    },
    {
      "cell_type": "code",
      "metadata": {
        "id": "EkL-f9LfLATF",
        "colab_type": "code",
        "colab": {}
      },
      "source": [
        "# Task 10: delete one elemnt using del, remove, or pop\n",
        "\n",
        "\n"
      ],
      "execution_count": 0,
      "outputs": []
    },
    {
      "cell_type": "code",
      "metadata": {
        "id": "NEbgwPKJLATH",
        "colab_type": "code",
        "colab": {}
      },
      "source": [
        "# Task 11: sort newlist\n",
        "\n"
      ],
      "execution_count": 0,
      "outputs": []
    },
    {
      "cell_type": "markdown",
      "metadata": {
        "id": "x8DOAmLBLATJ",
        "colab_type": "text"
      },
      "source": [
        "2. Dictionaries: dictionary contains a sequence of key:value pairs."
      ]
    },
    {
      "cell_type": "code",
      "metadata": {
        "id": "hGkgQugJLATK",
        "colab_type": "code",
        "colab": {
          "base_uri": "https://localhost:8080/",
          "height": 34
        },
        "outputId": "fbb66a2a-9d76-4323-b737-9c4550253c9c"
      },
      "source": [
        "# To create a dictionary\n",
        "gradebook = {}\n",
        "gradebook['Susan'] = 87.0\n",
        "gradebook['Peter'] = 94.0\n",
        "gradebook['Tina'] = 99.9\n",
        "gradebook"
      ],
      "execution_count": 46,
      "outputs": [
        {
          "output_type": "execute_result",
          "data": {
            "text/plain": [
              "{'Peter': 94.0, 'Susan': 87.0, 'Tina': 99.9}"
            ]
          },
          "metadata": {
            "tags": []
          },
          "execution_count": 46
        }
      ]
    },
    {
      "cell_type": "code",
      "metadata": {
        "id": "3pv2k_gfPNqA",
        "colab_type": "code",
        "colab": {
          "base_uri": "https://localhost:8080/",
          "height": 34
        },
        "outputId": "21104757-e9ee-41f5-d8e4-987fdf271dac"
      },
      "source": [
        "gradebook['Susan']"
      ],
      "execution_count": 48,
      "outputs": [
        {
          "output_type": "execute_result",
          "data": {
            "text/plain": [
              "87.0"
            ]
          },
          "metadata": {
            "tags": []
          },
          "execution_count": 48
        }
      ]
    },
    {
      "cell_type": "code",
      "metadata": {
        "id": "KmMKfvgULATN",
        "colab_type": "code",
        "colab": {},
        "outputId": "33673bbf-8616-4783-fcd9-5837d765adaf"
      },
      "source": [
        "#To change an element\n",
        "gradebook['Tina'] = [99.9, 95.7]\n",
        "gradebook"
      ],
      "execution_count": 0,
      "outputs": [
        {
          "output_type": "execute_result",
          "data": {
            "text/plain": [
              "{'Susan': 87.0, 'Peter': 94.0, 'Tina': [99.9, 95.7]}"
            ]
          },
          "metadata": {
            "tags": []
          },
          "execution_count": 28
        }
      ]
    },
    {
      "cell_type": "code",
      "metadata": {
        "id": "mD3oprPYLATQ",
        "colab_type": "code",
        "colab": {},
        "outputId": "633debf4-6198-45a5-ff11-c89d43c0c4b5"
      },
      "source": [
        "# To add an element to a dictionary\n",
        "gradebook.update({'Joe':90.0})\n",
        "gradebook"
      ],
      "execution_count": 0,
      "outputs": [
        {
          "output_type": "execute_result",
          "data": {
            "text/plain": [
              "{'Susan': 87.0, 'Peter': 94.0, 'Tina': [99.9, 95.7], 'Joe': 90.0}"
            ]
          },
          "metadata": {
            "tags": []
          },
          "execution_count": 29
        }
      ]
    },
    {
      "cell_type": "code",
      "metadata": {
        "id": "a3t1L1oJPjpb",
        "colab_type": "code",
        "colab": {}
      },
      "source": [
        "gradebook['mandeep'] = ['mandeep']"
      ],
      "execution_count": 0,
      "outputs": []
    },
    {
      "cell_type": "code",
      "metadata": {
        "id": "CHY62aVwLATS",
        "colab_type": "code",
        "colab": {
          "base_uri": "https://localhost:8080/",
          "height": 51
        },
        "outputId": "ce74bf05-c877-4022-8c0f-15c5381abdaa"
      },
      "source": [
        "gradebook.keys(),gradebook.values()\n"
      ],
      "execution_count": 51,
      "outputs": [
        {
          "output_type": "execute_result",
          "data": {
            "text/plain": [
              "(dict_keys(['Susan', 'Peter', 'Tina', 'mandeep']),\n",
              " dict_values([87.0, 94.0, 99.9, ['mandeep']]))"
            ]
          },
          "metadata": {
            "tags": []
          },
          "execution_count": 51
        }
      ]
    },
    {
      "cell_type": "code",
      "metadata": {
        "id": "-FDAehELLATU",
        "colab_type": "code",
        "colab": {},
        "outputId": "bf900308-fd8d-4c31-aeb3-4f5e6e52d227"
      },
      "source": [
        "gradebook.values()"
      ],
      "execution_count": 0,
      "outputs": [
        {
          "output_type": "execute_result",
          "data": {
            "text/plain": [
              "dict_values([87.0, 94.0, [99.9, 95.7], 90.0])"
            ]
          },
          "metadata": {
            "tags": []
          },
          "execution_count": 31
        }
      ]
    },
    {
      "cell_type": "code",
      "metadata": {
        "id": "IYEGo6FxLATX",
        "colab_type": "code",
        "colab": {},
        "outputId": "b6adf959-baba-43df-93e1-39d12ff1057d"
      },
      "source": [
        "gradebook.items()"
      ],
      "execution_count": 0,
      "outputs": [
        {
          "output_type": "execute_result",
          "data": {
            "text/plain": [
              "dict_items([('Susan', 87.0), ('Peter', 94.0), ('Tina', [99.9, 95.7]), ('Joe', 90.0)])"
            ]
          },
          "metadata": {
            "tags": []
          },
          "execution_count": 32
        }
      ]
    },
    {
      "cell_type": "code",
      "metadata": {
        "id": "WIrQ2EOiLATZ",
        "colab_type": "code",
        "colab": {}
      },
      "source": [
        "# Task 12: compare the difference between copy() function and \"=\" operator\n",
        "gradebook_2 = gradebook # will make the changes in the parent dict if we change anyhting in the gradebook_2\n",
        "gradebook_1 = gradebook.copy() # wont affect any thing in the parent dict, with change in gardebook_1"
      ],
      "execution_count": 0,
      "outputs": []
    },
    {
      "cell_type": "code",
      "metadata": {
        "id": "f6fNc-3AQBgM",
        "colab_type": "code",
        "colab": {
          "base_uri": "https://localhost:8080/",
          "height": 204
        },
        "outputId": "be56c4ec-1b76-4626-bdf5-bf12d4881375"
      },
      "source": [
        "gradebook_2['MandeepSingh'] = \"10\"\n",
        "\n",
        "gradebook,gradebook_1,gradebook_2"
      ],
      "execution_count": 58,
      "outputs": [
        {
          "output_type": "execute_result",
          "data": {
            "text/plain": [
              "({'MandeepSingh': '10',\n",
              "  'Peter': 94.0,\n",
              "  'Susan': 87.0,\n",
              "  'Tina': 99.9,\n",
              "  'mandeep': ['mandeep']},\n",
              " {'Peter': 94.0, 'Susan': 87.0, 'Tina': 99.9, 'mandeep': ['mandeep']},\n",
              " {'MandeepSingh': '10',\n",
              "  'Peter': 94.0,\n",
              "  'Susan': 87.0,\n",
              "  'Tina': 99.9,\n",
              "  'mandeep': ['mandeep']})"
            ]
          },
          "metadata": {
            "tags": []
          },
          "execution_count": 58
        }
      ]
    },
    {
      "cell_type": "code",
      "metadata": {
        "id": "j-UehZLALATc",
        "colab_type": "code",
        "colab": {},
        "outputId": "a7d6507f-14c6-4a60-dded-2892f8b9de08"
      },
      "source": [
        "sorted(gradebook)"
      ],
      "execution_count": 0,
      "outputs": [
        {
          "output_type": "execute_result",
          "data": {
            "text/plain": [
              "['Joe', 'Peter', 'Susan', 'Tina']"
            ]
          },
          "metadata": {
            "tags": []
          },
          "execution_count": 34
        }
      ]
    },
    {
      "cell_type": "code",
      "metadata": {
        "id": "8Om7Q1vyLATg",
        "colab_type": "code",
        "colab": {}
      },
      "source": [
        "# Task 13: Could you concatenate three dictionaries together?\n",
        "dict1={1:10, 2:20}\n",
        "dict2={3:30, 4:40}\n",
        "dict3={5:50,6:60}\n",
        "\n",
        "\n"
      ],
      "execution_count": 0,
      "outputs": []
    },
    {
      "cell_type": "markdown",
      "metadata": {
        "id": "L2TGd9qgLATk",
        "colab_type": "text"
      },
      "source": [
        "3. Tuples"
      ]
    },
    {
      "cell_type": "code",
      "metadata": {
        "id": "e9npKEYGLATl",
        "colab_type": "code",
        "colab": {},
        "outputId": "e967e706-6be3-4776-9a50-418fb915dd02"
      },
      "source": [
        "#create a tuple\n",
        "tuplex = (4, 6, 2, 8, 3, 1) \n",
        "print(tuplex)\n",
        "#tuples are immutable, so you can not add new elements\n",
        "#using merge of tuples with the + operator you can add an element and it will create a new tuple\n",
        "tuplex = tuplex + (9,)\n",
        "print(tuplex)\n",
        "#adding items with index\n",
        "tuplex = tuplex[:5] + (15, 20, 25) + tuplex[:5]\n",
        "print(tuplex)\n",
        "#converting the tuple to list\n",
        "listx = list(tuplex) \n",
        "#use different ways to add items in list\n",
        "listx.append(30)\n",
        "tuplex = tuple(listx)\n",
        "print(tuplex)\n",
        "#convert tuple to a string\n",
        "tup = ('e', 'x', 'e', 'r', 'c', 'i', 's', 'e', 's')\n",
        "str1 =  ''.join(tup)\n",
        "print(str1)"
      ],
      "execution_count": 0,
      "outputs": [
        {
          "output_type": "stream",
          "text": [
            "(4, 6, 2, 8, 3, 1)\n",
            "(4, 6, 2, 8, 3, 1, 9)\n",
            "(4, 6, 2, 8, 3, 15, 20, 25, 4, 6, 2, 8, 3)\n",
            "(4, 6, 2, 8, 3, 15, 20, 25, 4, 6, 2, 8, 3, 30)\n",
            "exercises\n"
          ],
          "name": "stdout"
        }
      ]
    },
    {
      "cell_type": "code",
      "metadata": {
        "id": "VOWo1nFmLATs",
        "colab_type": "code",
        "colab": {},
        "outputId": "ed341c79-9457-412e-a877-f68a3ffb1ae0"
      },
      "source": [
        "# tuple is a sequence\n",
        "a = (4,5)\n",
        "b = (5,4)\n",
        "a == b"
      ],
      "execution_count": 0,
      "outputs": [
        {
          "output_type": "execute_result",
          "data": {
            "text/plain": [
              "False"
            ]
          },
          "metadata": {
            "tags": []
          },
          "execution_count": 37
        }
      ]
    },
    {
      "cell_type": "markdown",
      "metadata": {
        "id": "WWZ1l-SDLATv",
        "colab_type": "text"
      },
      "source": [
        "4. Set"
      ]
    },
    {
      "cell_type": "code",
      "metadata": {
        "id": "Q7ywaC44LATw",
        "colab_type": "code",
        "colab": {},
        "outputId": "322b129c-9541-4fdb-9193-892de1d95eb4"
      },
      "source": [
        "#Create a new empty set \n",
        "x = set()\n",
        "print(x)\n",
        "#Create a non empty set\n",
        "x = set([0, 1, 2, 3, 4,2,1])\n",
        "print(x)\n",
        "#iterate set elements\n",
        "for n in x:\n",
        "  print(n)"
      ],
      "execution_count": 0,
      "outputs": [
        {
          "output_type": "stream",
          "text": [
            "set()\n",
            "{0, 1, 2, 3, 4}\n",
            "0\n",
            "1\n",
            "2\n",
            "3\n",
            "4\n"
          ],
          "name": "stdout"
        }
      ]
    },
    {
      "cell_type": "code",
      "metadata": {
        "id": "RLzhoy_7LATy",
        "colab_type": "code",
        "colab": {},
        "outputId": "d565d45d-7632-44a4-fd42-8a63e8d27cbf"
      },
      "source": [
        "#to add elements to a set\n",
        "#A new empty set\n",
        "color_set = set()\n",
        "# add() is to add one item\n",
        "color_set.add(\"Red\")\n",
        "print(color_set)\n",
        "#To add multiple items, have to use update()\n",
        "color_set.update([\"Blue\", \"Green\"])\n",
        "print(color_set)"
      ],
      "execution_count": 0,
      "outputs": [
        {
          "output_type": "stream",
          "text": [
            "{'Red'}\n",
            "{'Blue', 'Green', 'Red'}\n"
          ],
          "name": "stdout"
        }
      ]
    }
  ]
}